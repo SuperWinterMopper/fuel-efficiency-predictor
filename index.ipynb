{
 "cells": [
  {
   "cell_type": "code",
   "execution_count": 1,
   "id": "86a60abd",
   "metadata": {},
   "outputs": [],
   "source": [
    "import sys\n",
    "\n",
    "sys.path.insert(0, '..')"
   ]
  },
  {
   "cell_type": "code",
   "execution_count": 55,
   "id": "5b87b456",
   "metadata": {},
   "outputs": [],
   "source": [
    "import numpy as np\n",
    "import torch\n",
    "import torch.nn as nn\n",
    "import pandas as pd\n",
    "import matplotlib.pyplot as plt"
   ]
  },
  {
   "cell_type": "code",
   "execution_count": 15,
   "id": "18e1f9c6",
   "metadata": {},
   "outputs": [
    {
     "data": {
      "text/html": [
       "<div>\n",
       "<style scoped>\n",
       "    .dataframe tbody tr th:only-of-type {\n",
       "        vertical-align: middle;\n",
       "    }\n",
       "\n",
       "    .dataframe tbody tr th {\n",
       "        vertical-align: top;\n",
       "    }\n",
       "\n",
       "    .dataframe thead th {\n",
       "        text-align: right;\n",
       "    }\n",
       "</style>\n",
       "<table border=\"1\" class=\"dataframe\">\n",
       "  <thead>\n",
       "    <tr style=\"text-align: right;\">\n",
       "      <th></th>\n",
       "      <th>MPG</th>\n",
       "      <th>Cylinders</th>\n",
       "      <th>Displacement</th>\n",
       "      <th>Horsepower</th>\n",
       "      <th>Weight</th>\n",
       "      <th>Acceleration</th>\n",
       "      <th>Model Year</th>\n",
       "      <th>Origin</th>\n",
       "    </tr>\n",
       "  </thead>\n",
       "  <tbody>\n",
       "    <tr>\n",
       "      <th>393</th>\n",
       "      <td>27.0</td>\n",
       "      <td>4</td>\n",
       "      <td>140.0</td>\n",
       "      <td>86.0</td>\n",
       "      <td>2790.0</td>\n",
       "      <td>15.6</td>\n",
       "      <td>82</td>\n",
       "      <td>1</td>\n",
       "    </tr>\n",
       "    <tr>\n",
       "      <th>394</th>\n",
       "      <td>44.0</td>\n",
       "      <td>4</td>\n",
       "      <td>97.0</td>\n",
       "      <td>52.0</td>\n",
       "      <td>2130.0</td>\n",
       "      <td>24.6</td>\n",
       "      <td>82</td>\n",
       "      <td>2</td>\n",
       "    </tr>\n",
       "    <tr>\n",
       "      <th>395</th>\n",
       "      <td>32.0</td>\n",
       "      <td>4</td>\n",
       "      <td>135.0</td>\n",
       "      <td>84.0</td>\n",
       "      <td>2295.0</td>\n",
       "      <td>11.6</td>\n",
       "      <td>82</td>\n",
       "      <td>1</td>\n",
       "    </tr>\n",
       "    <tr>\n",
       "      <th>396</th>\n",
       "      <td>28.0</td>\n",
       "      <td>4</td>\n",
       "      <td>120.0</td>\n",
       "      <td>79.0</td>\n",
       "      <td>2625.0</td>\n",
       "      <td>18.6</td>\n",
       "      <td>82</td>\n",
       "      <td>1</td>\n",
       "    </tr>\n",
       "    <tr>\n",
       "      <th>397</th>\n",
       "      <td>31.0</td>\n",
       "      <td>4</td>\n",
       "      <td>119.0</td>\n",
       "      <td>82.0</td>\n",
       "      <td>2720.0</td>\n",
       "      <td>19.4</td>\n",
       "      <td>82</td>\n",
       "      <td>1</td>\n",
       "    </tr>\n",
       "  </tbody>\n",
       "</table>\n",
       "</div>"
      ],
      "text/plain": [
       "      MPG  Cylinders  Displacement  Horsepower  Weight  Acceleration  \\\n",
       "393  27.0          4         140.0        86.0  2790.0          15.6   \n",
       "394  44.0          4          97.0        52.0  2130.0          24.6   \n",
       "395  32.0          4         135.0        84.0  2295.0          11.6   \n",
       "396  28.0          4         120.0        79.0  2625.0          18.6   \n",
       "397  31.0          4         119.0        82.0  2720.0          19.4   \n",
       "\n",
       "     Model Year  Origin  \n",
       "393          82       1  \n",
       "394          82       2  \n",
       "395          82       1  \n",
       "396          82       1  \n",
       "397          82       1  "
      ]
     },
     "execution_count": 15,
     "metadata": {},
     "output_type": "execute_result"
    }
   ],
   "source": [
    "url = 'http://archive.ics.uci.edu/ml/machine-learning-databases/auto-mpg/auto-mpg.data'\n",
    "column_names = ['MPG', 'Cylinders', 'Displacement', 'Horsepower', 'Weight', 'Acceleration', 'Model Year', 'Origin']\n",
    "\n",
    "df = pd.read_csv(url, names=column_names, sep=' ', skipinitialspace=True, comment='\\t', na_values='?')\n",
    "df.tail()"
   ]
  },
  {
   "cell_type": "code",
   "execution_count": 16,
   "id": "30ed2617",
   "metadata": {},
   "outputs": [
    {
     "name": "stdout",
     "output_type": "stream",
     "text": [
      "MPG             0\n",
      "Cylinders       0\n",
      "Displacement    0\n",
      "Horsepower      6\n",
      "Weight          0\n",
      "Acceleration    0\n",
      "Model Year      0\n",
      "Origin          0\n",
      "dtype: int64\n"
     ]
    }
   ],
   "source": [
    "print(df.isna().sum())"
   ]
  },
  {
   "cell_type": "code",
   "execution_count": 17,
   "id": "123393a4",
   "metadata": {},
   "outputs": [
    {
     "data": {
      "text/html": [
       "<div>\n",
       "<style scoped>\n",
       "    .dataframe tbody tr th:only-of-type {\n",
       "        vertical-align: middle;\n",
       "    }\n",
       "\n",
       "    .dataframe tbody tr th {\n",
       "        vertical-align: top;\n",
       "    }\n",
       "\n",
       "    .dataframe thead th {\n",
       "        text-align: right;\n",
       "    }\n",
       "</style>\n",
       "<table border=\"1\" class=\"dataframe\">\n",
       "  <thead>\n",
       "    <tr style=\"text-align: right;\">\n",
       "      <th></th>\n",
       "      <th>MPG</th>\n",
       "      <th>Cylinders</th>\n",
       "      <th>Displacement</th>\n",
       "      <th>Horsepower</th>\n",
       "      <th>Weight</th>\n",
       "      <th>Acceleration</th>\n",
       "      <th>Model Year</th>\n",
       "      <th>Origin</th>\n",
       "    </tr>\n",
       "  </thead>\n",
       "  <tbody>\n",
       "    <tr>\n",
       "      <th>count</th>\n",
       "      <td>318.000000</td>\n",
       "      <td>318.000000</td>\n",
       "      <td>318.000000</td>\n",
       "      <td>312.000000</td>\n",
       "      <td>318.000000</td>\n",
       "      <td>318.000000</td>\n",
       "      <td>318.000000</td>\n",
       "      <td>318.00000</td>\n",
       "    </tr>\n",
       "    <tr>\n",
       "      <th>mean</th>\n",
       "      <td>23.583962</td>\n",
       "      <td>5.418239</td>\n",
       "      <td>191.128931</td>\n",
       "      <td>103.317308</td>\n",
       "      <td>2952.047170</td>\n",
       "      <td>15.717610</td>\n",
       "      <td>75.921384</td>\n",
       "      <td>1.58805</td>\n",
       "    </tr>\n",
       "    <tr>\n",
       "      <th>std</th>\n",
       "      <td>7.890750</td>\n",
       "      <td>1.682508</td>\n",
       "      <td>102.212399</td>\n",
       "      <td>37.839804</td>\n",
       "      <td>836.500568</td>\n",
       "      <td>2.751966</td>\n",
       "      <td>3.683467</td>\n",
       "      <td>0.80815</td>\n",
       "    </tr>\n",
       "    <tr>\n",
       "      <th>min</th>\n",
       "      <td>9.000000</td>\n",
       "      <td>3.000000</td>\n",
       "      <td>70.000000</td>\n",
       "      <td>46.000000</td>\n",
       "      <td>1613.000000</td>\n",
       "      <td>8.500000</td>\n",
       "      <td>70.000000</td>\n",
       "      <td>1.00000</td>\n",
       "    </tr>\n",
       "    <tr>\n",
       "      <th>25%</th>\n",
       "      <td>17.500000</td>\n",
       "      <td>4.000000</td>\n",
       "      <td>101.750000</td>\n",
       "      <td>75.000000</td>\n",
       "      <td>2220.750000</td>\n",
       "      <td>14.000000</td>\n",
       "      <td>73.000000</td>\n",
       "      <td>1.00000</td>\n",
       "    </tr>\n",
       "    <tr>\n",
       "      <th>50%</th>\n",
       "      <td>23.000000</td>\n",
       "      <td>4.000000</td>\n",
       "      <td>146.000000</td>\n",
       "      <td>92.000000</td>\n",
       "      <td>2801.000000</td>\n",
       "      <td>15.500000</td>\n",
       "      <td>76.000000</td>\n",
       "      <td>1.00000</td>\n",
       "    </tr>\n",
       "    <tr>\n",
       "      <th>75%</th>\n",
       "      <td>29.800000</td>\n",
       "      <td>6.000000</td>\n",
       "      <td>258.000000</td>\n",
       "      <td>122.750000</td>\n",
       "      <td>3533.750000</td>\n",
       "      <td>17.400000</td>\n",
       "      <td>79.000000</td>\n",
       "      <td>2.00000</td>\n",
       "    </tr>\n",
       "    <tr>\n",
       "      <th>max</th>\n",
       "      <td>46.600000</td>\n",
       "      <td>8.000000</td>\n",
       "      <td>455.000000</td>\n",
       "      <td>230.000000</td>\n",
       "      <td>5140.000000</td>\n",
       "      <td>24.800000</td>\n",
       "      <td>82.000000</td>\n",
       "      <td>3.00000</td>\n",
       "    </tr>\n",
       "  </tbody>\n",
       "</table>\n",
       "</div>"
      ],
      "text/plain": [
       "              MPG   Cylinders  Displacement  Horsepower       Weight  \\\n",
       "count  318.000000  318.000000    318.000000  312.000000   318.000000   \n",
       "mean    23.583962    5.418239    191.128931  103.317308  2952.047170   \n",
       "std      7.890750    1.682508    102.212399   37.839804   836.500568   \n",
       "min      9.000000    3.000000     70.000000   46.000000  1613.000000   \n",
       "25%     17.500000    4.000000    101.750000   75.000000  2220.750000   \n",
       "50%     23.000000    4.000000    146.000000   92.000000  2801.000000   \n",
       "75%     29.800000    6.000000    258.000000  122.750000  3533.750000   \n",
       "max     46.600000    8.000000    455.000000  230.000000  5140.000000   \n",
       "\n",
       "       Acceleration  Model Year     Origin  \n",
       "count    318.000000  318.000000  318.00000  \n",
       "mean      15.717610   75.921384    1.58805  \n",
       "std        2.751966    3.683467    0.80815  \n",
       "min        8.500000   70.000000    1.00000  \n",
       "25%       14.000000   73.000000    1.00000  \n",
       "50%       15.500000   76.000000    1.00000  \n",
       "75%       17.400000   79.000000    2.00000  \n",
       "max       24.800000   82.000000    3.00000  "
      ]
     },
     "execution_count": 17,
     "metadata": {},
     "output_type": "execute_result"
    }
   ],
   "source": [
    "import sklearn\n",
    "import sklearn.model_selection\n",
    "\n",
    "df_train, df_test = sklearn.model_selection.train_test_split(df, train_size=.8, random_state=1)\n",
    "\n",
    "stats = df_train.describe()\n",
    "stats"
   ]
  },
  {
   "cell_type": "code",
   "execution_count": 42,
   "id": "a69f250a",
   "metadata": {},
   "outputs": [
    {
     "data": {
      "text/html": [
       "<div>\n",
       "<style scoped>\n",
       "    .dataframe tbody tr th:only-of-type {\n",
       "        vertical-align: middle;\n",
       "    }\n",
       "\n",
       "    .dataframe tbody tr th {\n",
       "        vertical-align: top;\n",
       "    }\n",
       "\n",
       "    .dataframe thead th {\n",
       "        text-align: right;\n",
       "    }\n",
       "</style>\n",
       "<table border=\"1\" class=\"dataframe\">\n",
       "  <thead>\n",
       "    <tr style=\"text-align: right;\">\n",
       "      <th></th>\n",
       "      <th>MPG</th>\n",
       "      <th>Cylinders</th>\n",
       "      <th>Displacement</th>\n",
       "      <th>Horsepower</th>\n",
       "      <th>Weight</th>\n",
       "      <th>Acceleration</th>\n",
       "      <th>Model Year</th>\n",
       "      <th>Origin</th>\n",
       "    </tr>\n",
       "  </thead>\n",
       "  <tbody>\n",
       "    <tr>\n",
       "      <th>393</th>\n",
       "      <td>27.0</td>\n",
       "      <td>-0.842931</td>\n",
       "      <td>-0.500222</td>\n",
       "      <td>-0.457648</td>\n",
       "      <td>-0.193720</td>\n",
       "      <td>-0.042737</td>\n",
       "      <td>82</td>\n",
       "      <td>1</td>\n",
       "    </tr>\n",
       "    <tr>\n",
       "      <th>255</th>\n",
       "      <td>25.1</td>\n",
       "      <td>-0.842931</td>\n",
       "      <td>-0.500222</td>\n",
       "      <td>-0.404794</td>\n",
       "      <td>-0.277402</td>\n",
       "      <td>-0.115412</td>\n",
       "      <td>78</td>\n",
       "      <td>1</td>\n",
       "    </tr>\n",
       "    <tr>\n",
       "      <th>72</th>\n",
       "      <td>15.0</td>\n",
       "      <td>1.534472</td>\n",
       "      <td>1.104280</td>\n",
       "      <td>1.233693</td>\n",
       "      <td>1.123673</td>\n",
       "      <td>-1.169204</td>\n",
       "      <td>72</td>\n",
       "      <td>1</td>\n",
       "    </tr>\n",
       "    <tr>\n",
       "      <th>235</th>\n",
       "      <td>26.0</td>\n",
       "      <td>-0.842931</td>\n",
       "      <td>-0.920915</td>\n",
       "      <td>-0.748347</td>\n",
       "      <td>-0.821335</td>\n",
       "      <td>0.902042</td>\n",
       "      <td>77</td>\n",
       "      <td>3</td>\n",
       "    </tr>\n",
       "    <tr>\n",
       "      <th>37</th>\n",
       "      <td>18.0</td>\n",
       "      <td>0.345770</td>\n",
       "      <td>0.399864</td>\n",
       "      <td>-0.087667</td>\n",
       "      <td>0.401617</td>\n",
       "      <td>-0.079074</td>\n",
       "      <td>71</td>\n",
       "      <td>1</td>\n",
       "    </tr>\n",
       "  </tbody>\n",
       "</table>\n",
       "</div>"
      ],
      "text/plain": [
       "      MPG  Cylinders  Displacement  Horsepower    Weight  Acceleration  \\\n",
       "393  27.0  -0.842931     -0.500222   -0.457648 -0.193720     -0.042737   \n",
       "255  25.1  -0.842931     -0.500222   -0.404794 -0.277402     -0.115412   \n",
       "72   15.0   1.534472      1.104280    1.233693  1.123673     -1.169204   \n",
       "235  26.0  -0.842931     -0.920915   -0.748347 -0.821335      0.902042   \n",
       "37   18.0   0.345770      0.399864   -0.087667  0.401617     -0.079074   \n",
       "\n",
       "     Model Year  Origin  \n",
       "393          82       1  \n",
       "255          78       1  \n",
       "72           72       1  \n",
       "235          77       3  \n",
       "37           71       1  "
      ]
     },
     "execution_count": 42,
     "metadata": {},
     "output_type": "execute_result"
    }
   ],
   "source": [
    "from sklearn.preprocessing import StandardScaler\n",
    "\n",
    "temp_col_names = ['Cylinders', 'Displacement', 'Horsepower', 'Weight', 'Acceleration']\n",
    "\n",
    "df_train_norm, df_test_norm = df_train.copy(), df_test.copy()\n",
    "\n",
    "for col in temp_col_names:\n",
    "    mean = stats.loc['mean', col]\n",
    "    std = stats.loc['std', col]\n",
    "    df_train_norm[col] = (df_train[col] - mean) / std\n",
    "    df_test_norm[col] = (df_test[col] - mean) / std\n",
    "\n",
    "df_train_norm.tail()"
   ]
  },
  {
   "cell_type": "code",
   "execution_count": null,
   "id": "47bf3799",
   "metadata": {},
   "outputs": [
    {
     "data": {
      "text/plain": [
       "318"
      ]
     },
     "execution_count": 43,
     "metadata": {},
     "output_type": "execute_result"
    }
   ],
   "source": [
    "boundaries = torch.tensor([73, 76, 79])\n",
    "\n",
    "v = torch.tensor(df_train_norm['Model Year'].values)\n",
    "df_train_norm['Model Year Bucketed'] = torch.bucketize(v, boundaries=boundaries, right=True)\n",
    "\n",
    "v = torch.tensor(df_test_norm['Model Year'].values)\n",
    "df_test_norm['Model Year Bucketed'] = torch.bucketize(v, boundaries=boundaries, right=True)\n",
    "\n",
    "temp_col_names.append('Model Year Bucketed')"
   ]
  },
  {
   "cell_type": "code",
   "execution_count": 52,
   "id": "9cf19d99",
   "metadata": {},
   "outputs": [],
   "source": [
    "from torch.nn.functional import one_hot\n",
    "\n",
    "total_origin = df_train['Origin'].nunique()\n",
    "\n",
    "origin_encoded = one_hot(torch.from_numpy(df_train_norm['Origin'].values) % total_origin)\n",
    "x_train_numeric = torch.tensor(df_train_norm[temp_col_names].values)\n",
    "x_train = torch.cat([x_train_numeric, origin_encoded], 1).float()\n",
    "\n",
    "origin_encoded = one_hot(torch.from_numpy(df_test_norm['Origin'].values) % total_origin)\n",
    "x_test_numeric = torch.tensor(df_test_norm[temp_col_names].values)\n",
    "x_test = torch.cat([x_test_numeric, origin_encoded], 1).float()"
   ]
  },
  {
   "cell_type": "code",
   "execution_count": null,
   "id": "213c73f5",
   "metadata": {},
   "outputs": [
    {
     "name": "stdout",
     "output_type": "stream",
     "text": [
      "318\n",
      "318\n"
     ]
    }
   ],
   "source": [
    "y_train = torch.tensor(df_train['MPG'].values).float()\n",
    "y_test = torch.tensor(df_test['MPG'].values).float()\n",
    "\n",
    "x = len(x_train)\n",
    "y = len(y_train) \n",
    "\n",
    "print(x)\n",
    "print(y)"
   ]
  },
  {
   "cell_type": "code",
   "execution_count": 47,
   "id": "73bde6af",
   "metadata": {},
   "outputs": [],
   "source": [
    "from torch.utils.data import DataLoader, TensorDataset\n",
    "\n",
    "torch.manual_seed(1)\n",
    "\n",
    "batch_size = 8\n",
    "train_ds = TensorDataset(x_train, y_train)\n",
    "train_dl = DataLoader(train_ds, batch_size=batch_size, shuffle=True)"
   ]
  },
  {
   "cell_type": "code",
   "execution_count": 50,
   "id": "8f022ee2",
   "metadata": {},
   "outputs": [
    {
     "data": {
      "text/plain": [
       "Sequential(\n",
       "  (0): Linear(in_features=9, out_features=8, bias=True)\n",
       "  (1): ReLU()\n",
       "  (2): Linear(in_features=8, out_features=4, bias=True)\n",
       "  (3): ReLU()\n",
       "  (4): Linear(in_features=4, out_features=1, bias=True)\n",
       ")"
      ]
     },
     "execution_count": 50,
     "metadata": {},
     "output_type": "execute_result"
    }
   ],
   "source": [
    "hidden_units = [8, 4]\n",
    "input_size = x_train.shape[1]\n",
    "\n",
    "all_layers = []\n",
    "for unit in hidden_units:\n",
    "    layer = nn.Linear(in_features=input_size, out_features=unit)\n",
    "    all_layers.append(layer)\n",
    "    all_layers.append(nn.ReLU())\n",
    "    input_size = unit\n",
    "\n",
    "all_layers.append(nn.Linear(in_features=hidden_units[-1], out_features=1))\n",
    "\n",
    "model = nn.Sequential(*all_layers)\n",
    "model"
   ]
  },
  {
   "cell_type": "code",
   "execution_count": 51,
   "id": "ddc1c550",
   "metadata": {},
   "outputs": [],
   "source": [
    "loss_fn = nn.MSELoss()\n",
    "optimizer = torch.optim.SGD(model.parameters(), lr=.001)"
   ]
  },
  {
   "cell_type": "code",
   "execution_count": null,
   "id": "aa52e1a5",
   "metadata": {},
   "outputs": [
    {
     "ename": "",
     "evalue": "",
     "output_type": "error",
     "traceback": [
      "\u001b[1;31mThe Kernel crashed while executing code in the current cell or a previous cell. \n",
      "\u001b[1;31mPlease review the code in the cell(s) to identify a possible cause of the failure. \n",
      "\u001b[1;31mClick <a href='https://aka.ms/vscodeJupyterKernelCrash'>here</a> for more info. \n",
      "\u001b[1;31mView Jupyter <a href='command:jupyter.viewOutput'>log</a> for further details."
     ]
    }
   ],
   "source": [
    "torch.manual_seed(1)\n",
    "\n",
    "num_epochs = 200\n",
    "\n",
    "train_accuracy_hist = [0.0] * num_epochs\n",
    "test_accuracy_hist = [0.0] * num_epochs\n",
    "epoch_nums = [i for i in range(num_epochs)]\n",
    "\n",
    "for epoch in range(num_epochs):\n",
    "    epoch_train_accuracy = 0\n",
    "    epoch_test_accuracy = 0\n",
    "    for x_batch, y_batch in train_dl:\n",
    "        pred = model(x_batch)[:, 0]\n",
    "        loss = loss_fn(pred, y_batch)\n",
    "        loss.backward()\n",
    "        optimizer.step()\n",
    "        optimizer.zero_grad()\n",
    "\n",
    "        # TO DO: trying to graph loss rn, actually graph accuracy\n",
    "\n",
    "        epoch_train_accuracy += loss.item()\n",
    "\n",
    "    epoch_train_accuracy /= (len(train_dl) / batch_size)\n",
    "    \n",
    "    pred = model(x_test)[:, 0]\n",
    "    loss = loss_fn(pred, y_test)\n",
    "    epoch_test_accuracy = loss.item()\n",
    "\n",
    "    train_accuracy_hist[epoch] = epoch_train_accuracy\n",
    "    test_accuracy_hist[epoch] = epoch_test_accuracy"
   ]
  },
  {
   "cell_type": "code",
   "execution_count": 56,
   "id": "e52f2fa2",
   "metadata": {},
   "outputs": [
    {
     "data": {
      "text/plain": [
       "<matplotlib.legend.Legend at 0x22d13f6ab00>"
      ]
     },
     "execution_count": 56,
     "metadata": {},
     "output_type": "execute_result"
    },
    {
     "data": {
      "image/png": "[encoded data removed]",
      "text/plain": [
       "<Figure size 640x480 with 1 Axes>"
      ]
     },
     "metadata": {},
     "output_type": "display_data"
    }
   ],
   "source": [
    "plt.title('Train and Test Accuracy')\n",
    "plt.xlabel('Epochs')\n",
    "plt.ylabel('Accuracy')\n",
    "\n",
    "\n",
    "plt.plot(epoch_nums, train_accuracy_hist, label='Training Accuracy')\n",
    "plt.plot(epoch_nums, test_accuracy_hist, label='Testing Accuracy')\n",
    "plt.legend()"
   ]
  }
 ],
 "metadata": {
  "kernelspec": {
   "display_name": "DSP_ML",
   "language": "python",
   "name": "python3"
  },
  "language_info": {
   "codemirror_mode": {
    "name": "ipython",
    "version": 3
   },
   "file_extension": ".py",
   "mimetype": "text/x-python",
   "name": "python",
   "nbconvert_exporter": "python",
   "pygments_lexer": "ipython3",
   "version": "3.10.18"
  }
 },
 "nbformat": 4,
 "nbformat_minor": 5
}
